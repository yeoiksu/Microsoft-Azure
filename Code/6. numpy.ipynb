{
 "cells": [
  {
   "cell_type": "markdown",
   "id": "12f7da10",
   "metadata": {},
   "source": [
    "## 6. Numpy"
   ]
  },
  {
   "cell_type": "code",
   "execution_count": 1,
   "id": "bc374421",
   "metadata": {},
   "outputs": [
    {
     "name": "stdout",
     "output_type": "stream",
     "text": [
      "[1 2 3 4]\n",
      "<class 'numpy.ndarray'>\n"
     ]
    }
   ],
   "source": [
    "import numpy as np\n",
    "\n",
    "arr = np.array([1,2,3,4])\n",
    "print(arr)\n",
    "print(type(arr))"
   ]
  },
  {
   "cell_type": "markdown",
   "id": "af000046",
   "metadata": {},
   "source": [
    "#### 6.1. 0으로 초기화 된 배열 (zeros)"
   ]
  },
  {
   "cell_type": "code",
   "execution_count": 2,
   "id": "d9150995",
   "metadata": {
    "scrolled": true
   },
   "outputs": [
    {
     "name": "stdout",
     "output_type": "stream",
     "text": [
      "[[0. 0. 0.]\n",
      " [0. 0. 0.]\n",
      " [0. 0. 0.]]\n"
     ]
    }
   ],
   "source": [
    "arr = np.zeros((3,3))\n",
    "print(arr)"
   ]
  },
  {
   "cell_type": "markdown",
   "id": "42e3aa17",
   "metadata": {},
   "source": [
    "#### 6.2. 빈 값으로 만들어진 배열 (empty)\n",
    "    - 어차피 다 채워줄 것 같을 때 empty 사용"
   ]
  },
  {
   "cell_type": "code",
   "execution_count": 3,
   "id": "3814bf8d",
   "metadata": {},
   "outputs": [
    {
     "name": "stdout",
     "output_type": "stream",
     "text": [
      "[[6.23042070e-307 4.67296746e-307 1.69121096e-306 9.34609111e-307]\n",
      " [1.11256817e-306 1.06811422e-306 1.42417221e-306 1.11260619e-306]\n",
      " [8.90094053e-307 1.86919378e-306 1.06809792e-306 1.37962456e-306]\n",
      " [1.69111861e-306 1.78020169e-306 1.37961777e-306 7.56599807e-307]]\n"
     ]
    }
   ],
   "source": [
    "arr = np.empty((4,4))\n",
    "print(arr)"
   ]
  },
  {
   "cell_type": "markdown",
   "id": "8d662f89",
   "metadata": {},
   "source": [
    "#### 6.3. 1로 가득찬 배열을 만든다 (ones)\n",
    "    - 속도를 위해서 실수형 사용"
   ]
  },
  {
   "cell_type": "code",
   "execution_count": 4,
   "id": "ff926b29",
   "metadata": {},
   "outputs": [
    {
     "name": "stdout",
     "output_type": "stream",
     "text": [
      "[[1. 1. 1.]\n",
      " [1. 1. 1.]\n",
      " [1. 1. 1.]]\n"
     ]
    }
   ],
   "source": [
    "arr = np.ones((3,3))\n",
    "print(arr)"
   ]
  },
  {
   "cell_type": "markdown",
   "id": "d4bb3f38",
   "metadata": {},
   "source": [
    "#### 6.4. 배열의 생성(arange)"
   ]
  },
  {
   "cell_type": "code",
   "execution_count": 5,
   "id": "5d5e581d",
   "metadata": {},
   "outputs": [
    {
     "name": "stdout",
     "output_type": "stream",
     "text": [
      "[0 1 2 3 4 5 6 7 8 9]\n"
     ]
    }
   ],
   "source": [
    "arr = np.arange(10)\n",
    "print(arr)"
   ]
  },
  {
   "cell_type": "markdown",
   "id": "67be8282",
   "metadata": {},
   "source": [
    "#### 6.5. ndarray 배열의 모양(shape), 차수(ndim), 데이터 타입 확인(dtype)"
   ]
  },
  {
   "cell_type": "code",
   "execution_count": 6,
   "id": "81ef30a6",
   "metadata": {},
   "outputs": [
    {
     "name": "stdout",
     "output_type": "stream",
     "text": [
      "[[1 2 3]\n",
      " [4 5 6]]\n"
     ]
    }
   ],
   "source": [
    "arr = np.array([[1,2,3],[4,5,6]])\n",
    "print(arr)"
   ]
  },
  {
   "cell_type": "code",
   "execution_count": 7,
   "id": "8f46e8c2",
   "metadata": {},
   "outputs": [
    {
     "name": "stdout",
     "output_type": "stream",
     "text": [
      "(2, 3)\n"
     ]
    }
   ],
   "source": [
    "# 배열의 모양\n",
    "print(arr.shape)"
   ]
  },
  {
   "cell_type": "code",
   "execution_count": 8,
   "id": "180b9ec0",
   "metadata": {},
   "outputs": [
    {
     "name": "stdout",
     "output_type": "stream",
     "text": [
      "2\n"
     ]
    }
   ],
   "source": [
    "# 배열의 차원\n",
    "print(arr.ndim)"
   ]
  },
  {
   "cell_type": "code",
   "execution_count": 9,
   "id": "ec5fc39a",
   "metadata": {},
   "outputs": [
    {
     "name": "stdout",
     "output_type": "stream",
     "text": [
      "int32\n"
     ]
    }
   ],
   "source": [
    "# 데이터 타입\n",
    "print(arr.dtype)"
   ]
  },
  {
   "cell_type": "code",
   "execution_count": 10,
   "id": "c0163fe6",
   "metadata": {},
   "outputs": [
    {
     "name": "stdout",
     "output_type": "stream",
     "text": [
      "float64\n"
     ]
    }
   ],
   "source": [
    "# 데이터 타입 바꾸기\n",
    "arr_float = arr.astype(np.float64)\n",
    "print(arr_float.dtype)"
   ]
  },
  {
   "cell_type": "code",
   "execution_count": 11,
   "id": "df993913",
   "metadata": {},
   "outputs": [
    {
     "name": "stdout",
     "output_type": "stream",
     "text": [
      "<U1\n"
     ]
    }
   ],
   "source": [
    "# string을 int로 바꾸기\n",
    "arr_str = np.array(['1','2','3'])\n",
    "print(arr_str.dtype)"
   ]
  },
  {
   "cell_type": "code",
   "execution_count": 12,
   "id": "e4741cac",
   "metadata": {},
   "outputs": [
    {
     "name": "stdout",
     "output_type": "stream",
     "text": [
      "int64\n"
     ]
    }
   ],
   "source": [
    "arr_int = arr_str.astype(np.int64)\n",
    "print(arr_int.dtype)"
   ]
  },
  {
   "cell_type": "markdown",
   "id": "deb3d9f8",
   "metadata": {},
   "source": [
    "#### 6.6. ndarray 배열의 연산(add, substract, multiply, divide)"
   ]
  },
  {
   "cell_type": "code",
   "execution_count": 13,
   "id": "a3096b7e",
   "metadata": {},
   "outputs": [],
   "source": [
    "arr1 = np.array([[1,2],[3,4]])\n",
    "arr2 = np.array([[5,6],[7,8]])"
   ]
  },
  {
   "cell_type": "code",
   "execution_count": 14,
   "id": "b500eac4",
   "metadata": {
    "scrolled": true
   },
   "outputs": [
    {
     "name": "stdout",
     "output_type": "stream",
     "text": [
      "[[ 6  8]\n",
      " [10 12]]\n"
     ]
    }
   ],
   "source": [
    "# 더하기\n",
    "print(arr1 + arr2)"
   ]
  },
  {
   "cell_type": "code",
   "execution_count": 15,
   "id": "e9640f3c",
   "metadata": {},
   "outputs": [
    {
     "name": "stdout",
     "output_type": "stream",
     "text": [
      "[[ 6  8]\n",
      " [10 12]]\n"
     ]
    }
   ],
   "source": [
    "# numpy 기능을 사용하여 더하기 (add, multiply, divide)\n",
    "print(np.add(arr1, arr2))"
   ]
  },
  {
   "cell_type": "code",
   "execution_count": 16,
   "id": "a3d5d8e0",
   "metadata": {},
   "outputs": [
    {
     "name": "stdout",
     "output_type": "stream",
     "text": [
      "[[ 5 12]\n",
      " [21 32]]\n"
     ]
    }
   ],
   "source": [
    "# 곱하기\n",
    "print(arr1 * arr2)"
   ]
  },
  {
   "cell_type": "code",
   "execution_count": 17,
   "id": "7db3d754",
   "metadata": {
    "scrolled": true
   },
   "outputs": [
    {
     "name": "stdout",
     "output_type": "stream",
     "text": [
      "[[ 5 12]\n",
      " [21 32]]\n"
     ]
    }
   ],
   "source": [
    "# numpy 기능을 사용하여 곱하기\n",
    "print(np.multiply(arr1, arr2))"
   ]
  },
  {
   "cell_type": "markdown",
   "id": "841f0cb3",
   "metadata": {},
   "source": [
    "#### 6.7. ndarray 배열 슬라이싱 하기"
   ]
  },
  {
   "cell_type": "code",
   "execution_count": 18,
   "id": "ba2876e6",
   "metadata": {},
   "outputs": [
    {
     "name": "stdout",
     "output_type": "stream",
     "text": [
      "[[1 2 3]\n",
      " [4 5 6]\n",
      " [7 8 9]]\n"
     ]
    }
   ],
   "source": [
    "arr = np.array([[1,2,3],[4,5,6],[7,8,9]])\n",
    "print(arr)"
   ]
  },
  {
   "cell_type": "markdown",
   "id": "a1967222",
   "metadata": {},
   "source": [
    "#### arr이 2차원 배열이므로 2차원으로 슬라이싱해야한다\n",
    "    ':2'  = Index 0부터 2까지 (2는 포함 X) \n",
    "    '1:3' = Index 1부터 3까지 (3는 포함 X)"
   ]
  },
  {
   "cell_type": "code",
   "execution_count": 19,
   "id": "1e17010f",
   "metadata": {},
   "outputs": [
    {
     "name": "stdout",
     "output_type": "stream",
     "text": [
      "[[2 3]\n",
      " [5 6]]\n"
     ]
    }
   ],
   "source": [
    "arr_1 = arr[:2,1:3]\n",
    "print(arr_1)"
   ]
  },
  {
   "cell_type": "code",
   "execution_count": 20,
   "id": "0b970a95",
   "metadata": {},
   "outputs": [
    {
     "name": "stdout",
     "output_type": "stream",
     "text": [
      "3\n"
     ]
    }
   ],
   "source": [
    "## arr 배열에서 (0,2)의 요소를 출력함\n",
    "print(arr[0,2])"
   ]
  },
  {
   "cell_type": "code",
   "execution_count": 21,
   "id": "502fd1fc",
   "metadata": {},
   "outputs": [
    {
     "name": "stdout",
     "output_type": "stream",
     "text": [
      "[3 4 8]\n"
     ]
    }
   ],
   "source": [
    "# arr 배열에서 (0,2) (1,0) (2,1)의 요소를 출력함\n",
    "print(arr[[0,1,2], [2,0,1]])"
   ]
  },
  {
   "cell_type": "code",
   "execution_count": 22,
   "id": "c1dd06ee",
   "metadata": {},
   "outputs": [
    {
     "name": "stdout",
     "output_type": "stream",
     "text": [
      "[[False False False]\n",
      " [ True  True  True]\n",
      " [ True  True  True]]\n"
     ]
    }
   ],
   "source": [
    "idx = arr > 3\n",
    "print(idx)"
   ]
  },
  {
   "cell_type": "code",
   "execution_count": 23,
   "id": "b2add540",
   "metadata": {
    "scrolled": true
   },
   "outputs": [
    {
     "name": "stdout",
     "output_type": "stream",
     "text": [
      "[4 5 6 7 8 9]\n"
     ]
    }
   ],
   "source": [
    "# idx에서 True되는 요소만 배열로 출력되서 나옴\n",
    "print(arr[idx])"
   ]
  },
  {
   "cell_type": "markdown",
   "id": "d614b419",
   "metadata": {},
   "source": [
    "#### 6.8. Readwine에 대한 CSV를 불러온다\n",
    "    - delimiter = ';' : 구별자 ';'로 데이터를 구분한다\n",
    "    - skiprows = 1 : 첫줄은 header이므로 무시한다"
   ]
  },
  {
   "cell_type": "code",
   "execution_count": 24,
   "id": "4c8edc44",
   "metadata": {},
   "outputs": [
    {
     "name": "stdout",
     "output_type": "stream",
     "text": [
      "[[ 7.4    0.7    0.    ...  0.56   9.4    5.   ]\n",
      " [ 7.8    0.88   0.    ...  0.68   9.8    5.   ]\n",
      " [ 7.8    0.76   0.04  ...  0.65   9.8    5.   ]\n",
      " ...\n",
      " [ 6.3    0.51   0.13  ...  0.75  11.     6.   ]\n",
      " [ 5.9    0.645  0.12  ...  0.71  10.2    5.   ]\n",
      " [ 6.     0.31   0.47  ...  0.66  11.     6.   ]]\n"
     ]
    }
   ],
   "source": [
    "redwine = np.loadtxt(fname = 'winequality-red.csv', delimiter = ';', skiprows = 1)\n",
    "print(redwine)"
   ]
  },
  {
   "cell_type": "code",
   "execution_count": 25,
   "id": "b606c1d8",
   "metadata": {},
   "outputs": [
    {
     "name": "stdout",
     "output_type": "stream",
     "text": [
      "152084.78194\n"
     ]
    }
   ],
   "source": [
    "# 총 합계 (sum)\n",
    "print(redwine.sum())"
   ]
  },
  {
   "cell_type": "code",
   "execution_count": 26,
   "id": "859fede2",
   "metadata": {},
   "outputs": [
    {
     "name": "stdout",
     "output_type": "stream",
     "text": [
      "7.926036165311652\n"
     ]
    }
   ],
   "source": [
    "# 평균 (mean)\n",
    "print(redwine.mean())"
   ]
  },
  {
   "cell_type": "code",
   "execution_count": 27,
   "id": "447c7d27",
   "metadata": {},
   "outputs": [
    {
     "name": "stdout",
     "output_type": "stream",
     "text": [
      "축 0의 합계: \n",
      " [13303.1       843.985     433.29     4059.55      139.859   25384.\n",
      " 74302.       1593.79794  5294.47     1052.38    16666.35     9012.     ]\n",
      "\n",
      "축 0의 평균: \n",
      " [ 8.31963727  0.52782051  0.27097561  2.5388055   0.08746654 15.87492183\n",
      " 46.46779237  0.99674668  3.3111132   0.65814884 10.42298311  5.63602251]\n"
     ]
    }
   ],
   "source": [
    "# 축 (axis)\n",
    "# 축 0의 합계\n",
    "print('축 0의 합계: \\n',redwine.sum(axis=0))\n",
    "print('\\n축 0의 평균: \\n', redwine.mean(axis=0))"
   ]
  },
  {
   "cell_type": "code",
   "execution_count": 28,
   "id": "2d04fe99",
   "metadata": {},
   "outputs": [
    {
     "name": "stdout",
     "output_type": "stream",
     "text": [
      "[7.4 7.8 7.8 ... 6.3 5.9 6. ]\n"
     ]
    }
   ],
   "source": [
    "# 슬라이싱 \n",
    "# (: = 모든 행 , 0 = 첫번째 열)\n",
    "print(redwine[:,0])"
   ]
  },
  {
   "cell_type": "code",
   "execution_count": 29,
   "id": "91545fa1",
   "metadata": {},
   "outputs": [
    {
     "name": "stdout",
     "output_type": "stream",
     "text": [
      "8.31963727329581\n"
     ]
    }
   ],
   "source": [
    "# 첫번째 행의 평균\n",
    "print(redwine[ :,0].mean())"
   ]
  },
  {
   "cell_type": "code",
   "execution_count": 30,
   "id": "f4858f89",
   "metadata": {},
   "outputs": [
    {
     "name": "stdout",
     "output_type": "stream",
     "text": [
      "[ 15.9       1.58      1.       15.5       0.611    72.      289.\n",
      "   1.00369   4.01      2.       14.9       8.     ]\n"
     ]
    }
   ],
   "source": [
    "# 각 열마다 max 값을 출력\n",
    "print(redwine.max(axis= 0))"
   ]
  },
  {
   "cell_type": "code",
   "execution_count": 31,
   "id": "2aeacafd",
   "metadata": {},
   "outputs": [
    {
     "name": "stdout",
     "output_type": "stream",
     "text": [
      "[4.6     0.12    0.      0.9     0.012   1.      6.      0.99007 2.74\n",
      " 0.33    8.4     3.     ]\n"
     ]
    }
   ],
   "source": [
    "# 각 열마다 min 값을 출력\n",
    "print(redwine.min(axis=0))"
   ]
  }
 ],
 "metadata": {
  "kernelspec": {
   "display_name": "Python 3.10.8 64-bit",
   "language": "python",
   "name": "python3"
  },
  "language_info": {
   "codemirror_mode": {
    "name": "ipython",
    "version": 3
   },
   "file_extension": ".py",
   "mimetype": "text/x-python",
   "name": "python",
   "nbconvert_exporter": "python",
   "pygments_lexer": "ipython3",
   "version": "3.10.8"
  },
  "vscode": {
   "interpreter": {
    "hash": "fb4569285eef3a3450cb62085a5b1e0da4bce0af555edc33dcf29baf3acc1368"
   }
  }
 },
 "nbformat": 4,
 "nbformat_minor": 5
}
