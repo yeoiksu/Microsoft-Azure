{
 "cells": [
  {
   "cell_type": "markdown",
   "id": "fd1c2f93",
   "metadata": {},
   "source": [
    "## 4. Custom Vision 이해와 실습"
   ]
  },
  {
   "cell_type": "code",
   "execution_count": 16,
   "id": "709be25d",
   "metadata": {},
   "outputs": [],
   "source": [
    "from azure.cognitiveservices.vision.customvision.training import CustomVisionTrainingClient\n",
    "from azure.cognitiveservices.vision.customvision.prediction import CustomVisionPredictionClient\n",
    "from azure.cognitiveservices.vision.customvision.training.models import ImageFileCreateBatch, ImageFileCreateEntry, Region\n",
    "from msrest.authentication import ApiKeyCredentials"
   ]
  },
  {
   "cell_type": "markdown",
   "id": "495f8a0a",
   "metadata": {},
   "source": [
    "#### Key, resource id, URL 입력"
   ]
  },
  {
   "cell_type": "code",
   "execution_count": 24,
   "id": "10cdc3da",
   "metadata": {},
   "outputs": [],
   "source": [
    "ENDPOINT_Training   = 'XXXXXXXXXXXXXXXXXXXXXXXXXXXXXXXXXXXXXXXXXXXXXX'\n",
    "training_key   = 'XXXXXXXXXXXXXXXXXXXXXXXXXXXXXXXXXXXXXXXXXXXXXX'\n",
    "\n",
    "ENDPOINT_Prediction = 'XXXXXXXXXXXXXXXXXXXXXXXXXXXXXXXXXXXXXXXXXXXXXX'\n",
    "prediction_key = 'XXXXXXXXXXXXXXXXXXXXXXXXXXXXXXXXXXXXXXXXXXXXXX'\n",
    "\n",
    "prediction_resource_id = 'XXXXXXXXXXXXXXXXXXXXXXXXXXXXXXXXXXXXXXXXXXXXXX'"
   ]
  },
  {
   "cell_type": "code",
   "execution_count": 26,
   "id": "840aca85",
   "metadata": {},
   "outputs": [],
   "source": [
    "credentials = ApiKeyCredentials(in_headers={\"Training-key\": training_key}) # 보안부분\n",
    "trainer = CustomVisionTrainingClient(ENDPOINT_Training, credentials)"
   ]
  },
  {
   "cell_type": "markdown",
   "id": "d6bc87cf",
   "metadata": {},
   "source": [
    "#### Project를 새로 만든다"
   ]
  },
  {
   "cell_type": "code",
   "execution_count": 27,
   "id": "dcc18ca6",
   "metadata": {},
   "outputs": [
    {
     "name": "stdout",
     "output_type": "stream",
     "text": [
      "Creating project...\n"
     ]
    }
   ],
   "source": [
    "print (\"Creating project...\")\n",
    "project = trainer.create_project(\"'XXXXXXXXXXXXX\")"
   ]
  },
  {
   "cell_type": "markdown",
   "id": "abe14357",
   "metadata": {},
   "source": [
    "#### 태그를 만든다"
   ]
  },
  {
   "cell_type": "code",
   "execution_count": 28,
   "id": "eb977129",
   "metadata": {},
   "outputs": [],
   "source": [
    "Jajangmyeon_tag = trainer.create_tag(project.id, \"Jajangmyeon\")\n",
    "Jjambong_tag    = trainer.create_tag(project.id, \"Jjambong\")\n",
    "Tangsuyuk_tag   = trainer.create_tag(project.id, \"Tangsuyuk\")"
   ]
  },
  {
   "cell_type": "markdown",
   "id": "2f6793db",
   "metadata": {},
   "source": [
    "#### Training 시작"
   ]
  },
  {
   "cell_type": "code",
   "execution_count": 30,
   "id": "b2d4e90e",
   "metadata": {},
   "outputs": [],
   "source": [
    "import time"
   ]
  },
  {
   "cell_type": "code",
   "execution_count": 31,
   "id": "f05d5132",
   "metadata": {},
   "outputs": [
    {
     "name": "stdout",
     "output_type": "stream",
     "text": [
      "Training....\n"
     ]
    }
   ],
   "source": [
    "print('Training....')\n",
    "    iteration = trainer.train_project(project.id)"
   ]
  },
  {
   "cell_type": "code",
   "execution_count": null,
   "id": "954aef30",
   "metadata": {
    "scrolled": true
   },
   "outputs": [],
   "source": [
    "# completed가 아니면 무한 loop\n",
    "while (iteration.status != 'Completed'):\n",
    "    iteration = trainer.get_iteration(project.id, iteration.id)\n",
    "    print('Status: ' + iteration.status)\n",
    "    time.sleep(5)\n",
    "\n",
    "print('Done Training !!!')"
   ]
  },
  {
   "cell_type": "code",
   "execution_count": 33,
   "id": "9e15d418",
   "metadata": {},
   "outputs": [],
   "source": [
    "from azure.cognitiveservices.vision.customvision.prediction import CustomVisionPredictionClient"
   ]
  },
  {
   "cell_type": "code",
   "execution_count": 34,
   "id": "62c2fee6",
   "metadata": {},
   "outputs": [],
   "source": [
    "# predcition을 하기 위해 endpoint와 보완관련 입력\n",
    "prediction_credentials = ApiKeyCredentials(in_headers={\"Prediction-key\": prediction_key})\n",
    "predictor = CustomVisionPredictionClient(ENDPOINT_Prediction , prediction_credentials)"
   ]
  },
  {
   "cell_type": "code",
   "execution_count": 55,
   "id": "f189a87e",
   "metadata": {},
   "outputs": [],
   "source": [
    "# 자장면 링크\n",
    "target_image_url1 = 'https://t3.ftcdn.net/jpg/04/99/47/46/360_F_499474623_E54OAKrMbnUdZPqgg6hG8aVSV0M0KyR2.jpg'\n",
    "\n",
    "# 탕수육 링크\n",
    "target_image_url2 = 'https://encrypted-tbn0.gstatic.com/images?q=tbn:ANd9GcQnjs2tjmaVpAVeCJ-ePRlYPpobkVdnqkv6sA&usqp=CAU'\n",
    "\n",
    "# 짬짜면 링크\n",
    "target_image_url3 = 'https://image.ytn.co.kr/general/jpg/2016/0802/201608020600065468_d.jpg'"
   ]
  },
  {
   "cell_type": "code",
   "execution_count": 56,
   "id": "9dceca0f",
   "metadata": {},
   "outputs": [],
   "source": [
    "# (학습시킨 project.id 확인, 배포시킨 model 이름, 예측할 이미지의 url)\n",
    "result1 = predictor.classify_image_url(project.id, 'greatwall' , target_image_url1)\n",
    "result2 = predictor.classify_image_url(project.id, 'greatwall' , target_image_url2)\n",
    "result3 = predictor.classify_image_url(project.id, 'greatwall' , target_image_url3)"
   ]
  },
  {
   "cell_type": "code",
   "execution_count": 60,
   "id": "6f145dbe",
   "metadata": {},
   "outputs": [
    {
     "name": "stdout",
     "output_type": "stream",
     "text": [
      "자장면 결과\n",
      "\tJajangmyeon\t: 93.43%\n",
      "\tJjambong\t: 15.66%\n",
      "\tTangsuyuk\t: 0.05%\n",
      "==================================================\n",
      "탕수육 결과\n",
      "\tTangsuyuk\t: 99.83%\n",
      "\tJjambong\t: 0.74%\n",
      "\tJajangmyeon\t: 0.01%\n",
      "==================================================\n",
      "짬짜면 결과\n",
      "\tJajangmyeon\t: 79.63%\n",
      "\tJjambong\t: 9.34%\n",
      "\tTangsuyuk\t: 0.12%\n"
     ]
    }
   ],
   "source": [
    "# 자장면\n",
    "print('자장면 결과')\n",
    "for prediction in result1.predictions:\n",
    "    print( '\\t' + prediction.tag_name + \"\\t: {0:.2f}%\".format(prediction.probability * 100) )\n",
    "\n",
    "print('='*50)    \n",
    "print('탕수육 결과')\n",
    "# 탕수육\n",
    "for prediction in result2.predictions:\n",
    "    print( '\\t' + prediction.tag_name + \"\\t: {0:.2f}%\".format(prediction.probability * 100) )\n",
    "    \n",
    "print('='*50)    \n",
    "print('짬짜면 결과')\n",
    "# 짬짜면\n",
    "for prediction in result3.predictions:\n",
    "    print( '\\t' + prediction.tag_name + \"\\t: {0:.2f}%\".format(prediction.probability * 100) )"
   ]
  }
 ],
 "metadata": {
  "kernelspec": {
   "display_name": "Python 3 (ipykernel)",
   "language": "python",
   "name": "python3"
  },
  "language_info": {
   "codemirror_mode": {
    "name": "ipython",
    "version": 3
   },
   "file_extension": ".py",
   "mimetype": "text/x-python",
   "name": "python",
   "nbconvert_exporter": "python",
   "pygments_lexer": "ipython3",
   "version": "3.9.12"
  },
  "vscode": {
   "interpreter": {
    "hash": "fb4569285eef3a3450cb62085a5b1e0da4bce0af555edc33dcf29baf3acc1368"
   }
  }
 },
 "nbformat": 4,
 "nbformat_minor": 5
}
