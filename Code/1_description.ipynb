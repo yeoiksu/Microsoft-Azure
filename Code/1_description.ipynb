{
 "cells": [
  {
   "cell_type": "markdown",
   "id": "8d04a1d6",
   "metadata": {},
   "source": []
  },
  {
   "cell_type": "markdown",
   "id": "99513db3",
   "metadata": {},
   "source": [
    "## Computer Vision \n",
    "### Computer Vision API를 사용해서 이미지속에 있는 사물을 인식하는 데모 입니다."
   ]
  },
  {
   "cell_type": "code",
   "execution_count": 1,
   "id": "293651c9",
   "metadata": {},
   "outputs": [],
   "source": [
    "# 네트워크 통신을 위해서 requests 패키지를 import 합니다.\n",
    "import requests\n",
    "\n",
    "# 이미지처리를 위해서 matplotlib.pyplot, Image, BytesIO 세 개의 패키지를 import 합니다.\n",
    "# matplotlib.pyplot는 import 할 때 시간이 조금 걸릴 수 있습니다.\n",
    "import matplotlib.pyplot as plt\n",
    "from PIL import Image\n",
    "from io import  BytesIO"
   ]
  },
  {
   "cell_type": "markdown",
   "id": "c585dcd0",
   "metadata": {},
   "source": [
    "#### Subscription Key와 접속에 필요한 URL을 설정합니다."
   ]
  },
  {
   "cell_type": "code",
   "execution_count": 2,
   "id": "8d3ce0cb",
   "metadata": {},
   "outputs": [],
   "source": [
    "subscription_key = 'XXXXXXXXXXXXXXXXXXXXXXXXXXXX'   # key1\n",
    "vision_base_url = 'https://XXXXXXXXXXXcomputervision.cognitiveservices.azure.com/vision/v2.0/' # endpoint + vision/v2.0"
   ]
  },
  {
   "cell_type": "markdown",
   "id": "83f858ff",
   "metadata": {},
   "source": [
    "#### 뒤에 뭐를 더붙이는냐에 따라서 기능 결정(ex. object detection 할껀지 content tag 할껀지 결정)"
   ]
  },
  {
   "cell_type": "code",
   "execution_count": 3,
   "id": "ea1f8460",
   "metadata": {},
   "outputs": [],
   "source": [
    "analyze_url = vision_base_url + 'analyze'  # 이미지 분석을 위한 주소\n",
    "\n",
    "# 분석에 사용할 이미지 url\n",
    "image_url = 'https://img0.yna.co.kr/etc/inner/KR/2016/10/29/AKR20161029046000004_01_i_P2.jpg'"
   ]
  },
  {
   "cell_type": "code",
   "execution_count": 4,
   "id": "f9a27c24",
   "metadata": {},
   "outputs": [],
   "source": [
    "# con   = requests.get(image_url).content : content 저장\n",
    "# byte  = BytesIO(con)                    : 이미지를 풀어줌 \n",
    "# image = Image.open(byte)                : 이미지를 가지고 와서 준비 \n",
    "image = Image.open(BytesIO(requests.get(image_url).content))"
   ]
  },
  {
   "cell_type": "code",
   "execution_count": 5,
   "id": "622fac61",
   "metadata": {},
   "outputs": [],
   "source": [
    "# computer vision document url : https://learn.microsoft.com/ko-kr/azure/cognitive-services/computer-vision/\n",
    "headers = {'Ocp-Apim-Subscription-key': subscription_key}\n",
    "params  = {'visualFeatures': 'Categories,Description,Color'}\n",
    "data = {'url': image_url}"
   ]
  },
  {
   "cell_type": "code",
   "execution_count": 6,
   "id": "627513ae",
   "metadata": {},
   "outputs": [
    {
     "name": "stdout",
     "output_type": "stream",
     "text": [
      "{'categories': [{'name': 'people_crowd', 'score': 0.99609375}], 'color': {'dominantColorForeground': 'Black', 'dominantColorBackground': 'Black', 'dominantColors': ['Black', 'Grey'], 'accentColor': '868545', 'isBwImg': False, 'isBWImg': False}, 'description': {'tags': ['person', 'crowd', 'outdoor', 'large', 'people', 'street', 'walking', 'front', 'many', 'sign', 'busy', 'group', 'woman', 'filled', 'bunch', 'standing', 'crowded', 'city', 'traffic', 'man', 'riding', 'holding'], 'captions': [{'text': 'a group of people walking in front of a crowd', 'confidence': 0.9475320271258482}]}, 'requestId': '6ab10f72-4b95-454a-a8cc-27741cd7e739', 'metadata': {'height': 277, 'width': 500, 'format': 'Jpeg'}}\n"
     ]
    }
   ],
   "source": [
    "# get or post\n",
    "response = requests.post(analyze_url, headers = headers, params = params, json = data) #get or post\n",
    "result = response.json()\n",
    "print(result)"
   ]
  },
  {
   "cell_type": "code",
   "execution_count": 7,
   "id": "599b8e46",
   "metadata": {},
   "outputs": [
    {
     "name": "stdout",
     "output_type": "stream",
     "text": [
      "a group of people walking in front of a crowd\n"
     ]
    }
   ],
   "source": [
    "image_caption = result['description']['captions'][0]['text']\n",
    "print(image_caption)"
   ]
  }
 ],
 "metadata": {
  "kernelspec": {
   "display_name": "Python 3 (ipykernel)",
   "language": "python",
   "name": "python3"
  },
  "language_info": {
   "codemirror_mode": {
    "name": "ipython",
    "version": 3
   },
   "file_extension": ".py",
   "mimetype": "text/x-python",
   "name": "python",
   "nbconvert_exporter": "python",
   "pygments_lexer": "ipython3",
   "version": "3.10.8"
  },
  "vscode": {
   "interpreter": {
    "hash": "fb4569285eef3a3450cb62085a5b1e0da4bce0af555edc33dcf29baf3acc1368"
   }
  }
 },
 "nbformat": 4,
 "nbformat_minor": 5
}
